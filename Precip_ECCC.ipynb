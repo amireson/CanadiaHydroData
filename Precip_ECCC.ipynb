{
 "cells": [
  {
   "cell_type": "markdown",
   "metadata": {},
   "source": [
    "## ECCC precip data tool\n",
    "\n",
    "Andrew Ireson, 17 March 2020\n",
    "\n",
    "Instructions... just run this first... then you should be able to figure it out.\n",
    "\n",
    "Do not expect these data to be too reliable! You need to be critical of the data."
   ]
  },
  {
   "cell_type": "code",
   "execution_count": null,
   "metadata": {},
   "outputs": [],
   "source": [
    "import pandas as pd\n",
    "import matplotlib.pyplot as pl\n",
    "import numpy as np\n",
    "\n",
    "# Custom libraries\n",
    "from ECCC_Precip import ECCC_Precip as precip\n",
    "from saveload import saveload as sl"
   ]
  },
  {
   "cell_type": "code",
   "execution_count": null,
   "metadata": {},
   "outputs": [],
   "source": [
    "# Step 1: find station of interest:\n",
    "allstations=precip.StationList()\n",
    "provincialstations=precip.SearchByProvince('sask',allstations)\n",
    "stations=precip.SearchByName(['Saskatoon'],provincialstations)"
   ]
  },
  {
   "cell_type": "code",
   "execution_count": null,
   "metadata": {},
   "outputs": [],
   "source": [
    "# Step 2: Set parameters of interest:\n",
    "StartYear=1980\n",
    "EndYear=1982\n",
    "StationID='3333'"
   ]
  },
  {
   "cell_type": "code",
   "execution_count": null,
   "metadata": {},
   "outputs": [],
   "source": [
    "# Step 3 (optional): Preview the data for a given year (this can be useful if you are unsure what's available)\n",
    "precip.PreviewData(StationID,1980)"
   ]
  },
  {
   "cell_type": "code",
   "execution_count": null,
   "metadata": {},
   "outputs": [],
   "source": [
    "# Step 4: download and save the data\n",
    "data=precip.GetAllData(StartYear,EndYear,StationID)\n",
    "sl.save(data,'saskatoon')"
   ]
  },
  {
   "cell_type": "markdown",
   "metadata": {},
   "source": [
    "## Demonstration \n",
    "\n",
    "The code below is included for demonstration purposes - this is how the data can be used."
   ]
  },
  {
   "cell_type": "code",
   "execution_count": null,
   "metadata": {},
   "outputs": [],
   "source": [
    "# Load the data\n",
    "saskatoon=sl.load('saskatoon')\n",
    "\n",
    "# Print out the available fields\n",
    "for key in saskatoon: print(key)"
   ]
  },
  {
   "cell_type": "code",
   "execution_count": null,
   "metadata": {},
   "outputs": [],
   "source": [
    "# Basic plot of rainfall\n",
    "saskatoon.plot(y='Total Rain (mm)')"
   ]
  },
  {
   "cell_type": "code",
   "execution_count": null,
   "metadata": {},
   "outputs": [],
   "source": [
    "# Basic plot of snowfall\n",
    "saskatoon.plot(y='Total Snow (cm)')"
   ]
  },
  {
   "cell_type": "code",
   "execution_count": null,
   "metadata": {},
   "outputs": [],
   "source": [
    "# Basic plot of total precip\n",
    "saskatoon.plot(y='Total Precip (mm)')"
   ]
  },
  {
   "cell_type": "code",
   "execution_count": null,
   "metadata": {},
   "outputs": [],
   "source": [
    "# Get monthly precip\n",
    "monthly=saskatoon['Total Precip (mm)'].resample('M').sum()\n",
    "monthly.plot(drawstyle='steps')"
   ]
  },
  {
   "cell_type": "code",
   "execution_count": null,
   "metadata": {},
   "outputs": [],
   "source": [
    "# Annual cumulative plot (this one is often very useful)\n",
    "for year in range(1980,1983):\n",
    "    saskatoon['Total Rain (mm)'][str(year)].cumsum().plot(color='r')\n",
    "    saskatoon['Total Snow (cm)'][str(year)].cumsum().plot(color='k')\n",
    "    saskatoon['Total Precip (mm)'][str(year)].cumsum().plot(color='b')\n",
    "pl.legend(['rain','snow','total precip'])"
   ]
  },
  {
   "cell_type": "code",
   "execution_count": null,
   "metadata": {},
   "outputs": [],
   "source": [
    "# Annual cumulative plot based on hydrological years October 1 - Sept 31\n",
    "for year in range(1979,1983):\n",
    "    saskatoon['Total Rain (mm)']['%d-10'%year:'%d-9'%(year+1)].cumsum().plot(color='r')\n",
    "    saskatoon['Total Snow (cm)']['%d-10'%year:'%d-9'%(year+1)].cumsum().plot(color='k')\n",
    "    saskatoon['Total Precip (mm)']['%d-10'%year:'%d-9'%(year+1)].cumsum().plot(color='b')\n",
    "pl.legend(['rain','snow','total precip'])"
   ]
  },
  {
   "cell_type": "code",
   "execution_count": null,
   "metadata": {},
   "outputs": [],
   "source": [
    "# Annual Precipitation statistics\n",
    "saskatoon.resample('A').sum().describe()"
   ]
  },
  {
   "cell_type": "code",
   "execution_count": null,
   "metadata": {},
   "outputs": [],
   "source": []
  }
 ],
 "metadata": {
  "kernelspec": {
   "display_name": "Python 3",
   "language": "python",
   "name": "python3"
  },
  "language_info": {
   "codemirror_mode": {
    "name": "ipython",
    "version": 3
   },
   "file_extension": ".py",
   "mimetype": "text/x-python",
   "name": "python",
   "nbconvert_exporter": "python",
   "pygments_lexer": "ipython3",
   "version": "3.7.6"
  }
 },
 "nbformat": 4,
 "nbformat_minor": 4
}
