{
 "cells": [
  {
   "cell_type": "markdown",
   "metadata": {},
   "source": [
    "## Download USASK research data from the WISKI database\n",
    "\n",
    "These data should be used with great caution, and if you intend to publish anything using these data (including a thesis or project report) you must contact the researchers responsible for the data for permission. **If in doubt, ask Andrew. If not in doubt, ask Andrew anyway.**"
   ]
  },
  {
   "cell_type": "code",
   "execution_count": null,
   "metadata": {},
   "outputs": [],
   "source": [
    "import numpy as np\n",
    "from matplotlib import pyplot as pl\n",
    "\n",
    "# custom libraries\n",
    "from WISKI3 import WiskiTools as wt\n",
    "from saveload import saveload as sl"
   ]
  },
  {
   "cell_type": "code",
   "execution_count": null,
   "metadata": {},
   "outputs": [],
   "source": [
    "# Search for a station, and output station names:\n",
    "MyList=wt.searchStation('SDN')"
   ]
  },
  {
   "cell_type": "code",
   "execution_count": null,
   "metadata": {},
   "outputs": [],
   "source": [
    "# Select one station from the list, by number:\n",
    "station_name=MyList[4]\n",
    "print(station_name)"
   ]
  },
  {
   "cell_type": "code",
   "execution_count": null,
   "metadata": {},
   "outputs": [],
   "source": [
    "# List all time series associated with this station:\n",
    "MyTS=wt.searchTimeseries('',station_name)"
   ]
  },
  {
   "cell_type": "code",
   "execution_count": null,
   "metadata": {},
   "outputs": [],
   "source": [
    "# Select one or more times series, by index\n",
    "indexes=np.array([0])\n",
    "print(indexes)\n",
    "\n",
    "# Select a data range to work with:\n",
    "Start='2001-08-01 00:00:00'\n",
    "End='2018-02-08 00:00:00'\n",
    "\n",
    "# Extract data into a pandas dataframe:\n",
    "TS_Selection=MyTS[indexes]\n",
    "df = wt.getTimeseries(TS_Selection,station_name,Start,End)"
   ]
  },
  {
   "cell_type": "code",
   "execution_count": null,
   "metadata": {
    "scrolled": false
   },
   "outputs": [],
   "source": [
    "# Plot all the data in your dataframe on individual axes\n",
    "for i in range(df.columns.size):\n",
    "    df.plot(y=df.columns[i])\n",
    "    \n",
    "pl.show()"
   ]
  },
  {
   "cell_type": "code",
   "execution_count": null,
   "metadata": {},
   "outputs": [],
   "source": [
    "# Save the data\n",
    "filename='Temporary'\n",
    "sl.save(df,filename)"
   ]
  }
 ],
 "metadata": {
  "kernelspec": {
   "display_name": "Python 3",
   "language": "python",
   "name": "python3"
  },
  "language_info": {
   "codemirror_mode": {
    "name": "ipython",
    "version": 3
   },
   "file_extension": ".py",
   "mimetype": "text/x-python",
   "name": "python",
   "nbconvert_exporter": "python",
   "pygments_lexer": "ipython3",
   "version": "3.7.6"
  }
 },
 "nbformat": 4,
 "nbformat_minor": 1
}
